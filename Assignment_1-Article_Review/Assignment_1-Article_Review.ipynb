{
 "cells": [
  {
   "cell_type": "markdown",
   "metadata": {},
   "source": [
    "## Muhammad Maulud Hidayatullah Rambe\n",
    "__1301154166__"
   ]
  },
  {
   "cell_type": "markdown",
   "metadata": {},
   "source": [
    "Write min. 2 pages resume on one of these articles: \n",
    "1. http://karpathy.github.io/2015/10/25/selfie/\n",
    "2. http://karpathy.github.io/2015/03/30/breaking-convnets/\n",
    "3. http://karpathy.github.io/2015/05/21/rnn-effectiveness/\n",
    "4. http://colah.github.io/posts/2014-10-Visualizing-MNIST/\n",
    "5. http://colah.github.io/posts/2015-08-Backprop/\n",
    "6. http://colah.github.io/posts/2015-09-NN-Types-FP/\n",
    "\n",
    "Resume the article, not translate the article.\n",
    "\n",
    "Each article can be selected by only (max) 7 (seven) students. This will be described in class (Monday, Sept 10th, 2018)"
   ]
  },
  {
   "cell_type": "markdown",
   "metadata": {},
   "source": [
    "# What a Deep Neural Network thinks about your #selfie\n",
    "\n",
    "Convolutional Neural Network (CNN) dapat digunakan sebagai salah-satu metode penditeksian objek pada gambar. Pada artikel ini, dilakukan eksperimen terhadap foto selfie dan menentukan foto seperti apa yang dapat dikategorikan sebagai “Good Selfie” dan “Bad Selfie”. Eksperimen ini akan menggunakan CNN dengan 14 juta  paremeter, lalu dilatih dengan 2 juta gambar selfie dari internet.\n",
    "\n",
    "## Convolutional Neural Network (CNN)\n",
    "Sejarah singkat:\\\n",
    "Pertama kali dikembangkan oleh Yann LeCun dan rekan-rekannya pada 1980. Model ini digunakan untuk mengenali angka digit pada tahun 1993. Namun, model ini diacuhkan oleh komunitas Computer Vision karena dianggap tidak sesuai dengan gambar ”real-world”. Ternyata hal tersebut berubah pada tahun 2012, dimana perkembangan teknologi sudah meningkat dan kemampuan pemrosesan data serta jumlah data yang tersedia dapat menunjang model CNN ini. Alex Krizhevsky, Ilya Sutskever and Geoff Hinton berhasil mendemonstrasikan model ini dengan baik dan kemudian memenangkan World Cup untuk Computer Vision yaitu ImageNet Challenge.\n",
    "Cara kerja:\\\n",
    "\tCNN sudah dikembangkan dalam tahun-tahun kebelakang ini. Mulai dari arsitektur pertamanya “AlexNet”, lalu “ZFNet”, hingga akhirnya “GoogLeNet” dan “VGGNet”. Ditemukan keuntungan menggunakan CNN, yaitu:\n",
    "•\tSederhana: 1 operasi diulang berkali-kali dimulai dari gambar awal.\n",
    "•\tCepat: pemrosesan dilakukan hanya dalam sepersekian detik.\n",
    "•\tAkurasi Tinggi: sudah banyak dibuktikan pada berbagai kasus dan menghasilkan akurasi yang tinggi.\n",
    "\n",
    "Pada CNN, dimasukan sebuah gambar dan direpresentasikan dengan matrik 3 dimensi Contohnya, sebuah gambar berukuran 256pixel x 256pixel dijadikan ke array 256x256x3 (3 adalah untuk warna; merah, hijau, dan biru). Lalu dilakukan konvolusi yang secara sederhana dapat diartikan, membuat sebuah filter lalu digeser pada gambar secara spasial. Filter tersebut kemudian akan “melihat” fitur pada bagian gambar, dan bisa bereaksi bila menemukan suatu sudut ataupun warna. Jika kita membuat 10 jenis filter, maka akan mentransformasi gambar awal (256, 256, 3) menjadi “gambar” (256, 256, 10) yang menyimpan 10 hasil respon dari filter. Ini dilakukan berulang kalo secara iteratif hingga didapatkan pole bentuk yang kompleks.\\\n",
    "Bagaimana mengetahui filter apa yang digunakan? Jawabannya adalah kita tidak mengetahuinya. Ini karena cara melatih datanya adalah dengan menginisiasi secara acak filter apa yang akan digunakan. Sebagai contoh, dimasukan sebuah gambar kodok kedalam CNN dan didapatkan hasil pertama 54% anjing. Ada perhitungan matematis yang akan secara perlahan mecoba mengganti filter sehingga saat melihat gambar berikutnya yang sama akan meningkatkan hasil presentase kodok dan menurunkan presentase hewan yang bukan kodok.\n",
    "## Eksperimen\n",
    "### Training CNN\n",
    "Proses yang dilakukan untuk mendapatkan data dan melatih data pada eksperimen ini adalah sebagai berikut:\n",
    "1.\tDibuat skrip sederhana untuk mengambil gambar dengan tag #selfie, dan didapatkan sekitar 5 juta gambar.\n",
    "2.\tDi persempit dengan menggunakan CNN sehingga mendapatkan 2 juta gambar dengan minimal 1 wajah pada gambar.\n",
    "3.\tLalu dilakukan pengelompokan untuk selfie mana yang dianggap baik dan mana yang dianggap buruk. Penentuan tersebut, pada dasarnya, dihitung dari berapa jumlah orang yang melihatnya dan melihat jumlah orang yang memberi “like” pada gambar. Diambil semua user dan diurutkan berdasarkan berapa jumlah follower yang dimiliki. Lalu, dilakukan pengurutan terhadap gambar selfie dan diambil bagian teratas sebagai positive selfie dan bagian terbawah sebagai negatif selfie.\n",
    "4.\tDihasilkan sekitar 1 juta untuk gambar selfie yang baik dan juga yang buruk.\n",
    "\n",
    "### What makes a Good #selfie?\n",
    "\n",
    "Setelah mendapatkan 2 juta gambar selfie, data kemudian di proses lagi dengan CNN dan Caffe untuk “melihat” setiap gambar tersebut berulang kali sehingga dapat mem-filter gambar selfie yang bagus dari yang buruk. Dari hasil tersebut, didapatkan sebuah kesimpulan bahwa:\n",
    "\n",
    "* Wanita: Secara konsisten berada pada urutan yang lebih tinggi dibandingkan pria. Secara khusunya, tidak terdapat pria di urutan 100 besar.\n",
    "* Wajah memenuhi 1/3 gambar: Hal ini ditunjukan konsisten pada gambar-gambar teratas.\n",
    "* Memotong bagian atas kepala: Ini merupakan strategi yang cukup populer. Setidaknya dikalangan wanita.\n",
    "* Berambut panjang: Wanita yang berambut sepanjang pundak lebih mendominasi.\n",
    "* Warna yang tidak terlalu kontras: Sering terlihat pada urutan teratas.\n",
    "* Black & White: Sama seperti point diatas, filter B&W sering digunakan urutan teratas.\n",
    "* Menggunakan frame/border: Sering terdapat kemunculan gambar dengan pinggiran putih disamping/atas gambar.\n",
    "\n",
    "Namun tidak semua hal ini sama apabila dilakukan terhadap pria. Pria lebih cenderung memiliki gambar yang luas dari ujung kepala hingga dada atau lebih.\\\n",
    "Selain itu, dari hasil, didapatkan sebuah kesimpulan mengenai selfie yang buruk, yaitu:\n",
    "\n",
    "* Pencahayaan yang rendah: Gambar yang gelap sering terlihat pada posisi terbawah.\n",
    "* Wajah memenuhi gambar: Sepertinya tidak ada yang ingin melihat wajah secara close-up.\n",
    "* Group Shot: Foto berkelompok tidak bekerja dengan baik untuk #selfie.\n",
    "\n",
    "### Finding the Optimal Crop for a selfie\n",
    "\n",
    "Eksperimen lainnya yang bisa dilakukan menggunakan CNN adalah mencari proporsi terbaik untuk selfie. Diambil gambar acak dan dilakukan pemotongan bagian gambar, lalu menggunakan CNN untuk menentukan mana yang dinilai lebih tinggi. Hasil yang ditunjukan adalah CNN memilih gambar dengan ratio wajah 1/3 gambar dan dengan bagian atas kepala yang terpotong lebih baik dari pada gambar aslisnya.\n",
    "\n",
    "## Conclusion\n",
    "\n",
    "Convolution Neural Network (CNN) dapat digunakan untuk berbagai macam hal. Bukan hanya untuk mengklasifikasi gambar/video, tetapi bisa juga digunakan untuk melakukan segmentasi, diteksi, dan pendeskripsian yang dilakukan di cloud ataupun pada mesin robot.\n"
   ]
  },
  {
   "cell_type": "code",
   "execution_count": null,
   "metadata": {},
   "outputs": [],
   "source": []
  }
 ],
 "metadata": {
  "kernelspec": {
   "display_name": "Python 3",
   "language": "python",
   "name": "python3"
  },
  "language_info": {
   "codemirror_mode": {
    "name": "ipython",
    "version": 3
   },
   "file_extension": ".py",
   "mimetype": "text/x-python",
   "name": "python",
   "nbconvert_exporter": "python",
   "pygments_lexer": "ipython3",
   "version": "3.7.0"
  }
 },
 "nbformat": 4,
 "nbformat_minor": 2
}
